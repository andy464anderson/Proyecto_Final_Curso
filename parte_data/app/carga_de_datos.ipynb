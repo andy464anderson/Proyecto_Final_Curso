{
 "cells": [
  {
   "cell_type": "code",
   "execution_count": 71,
   "metadata": {},
   "outputs": [],
   "source": [
    "# importamos las liberias necesarias para trabajar con python con spark\n",
    "from pyspark.sql import SparkSession\n",
    "from pyspark.sql.types import StringType, StructField, StructType, IntegerType, FloatType, DateType, BooleanType, DoubleType\n",
    "from pyspark.sql.functions import *\n",
    "\n",
    "# creamos la sesion de spark con 4 cores y 4 gigas de memoria mas nombre de la aplicacion\n",
    "spark = SparkSession.builder.master(\"local[4]\").appName(\"carga_de_datos\").getOrCreate()\n",
    "\n",
    "# creamos variable con la ruta del archivos\n",
    "capaAlmacenamiento = \"../datalake/capaAlmacenamiento/combined.csv\"\n",
    "capaProcesamiento = \"../datalake/capaProcesamiento/peliculas.parquet\"\n"
   ]
  },
  {
   "cell_type": "code",
   "execution_count": 72,
   "metadata": {},
   "outputs": [],
   "source": [
    "# creamos la esquema de la df anterior\n",
    "schemaDf = StructType([\n",
    "    StructField(\"adult\", BooleanType(), True),\n",
    "    StructField(\"genres\", StringType(), True),\n",
    "    StructField(\"id\", IntegerType(), False),\n",
    "    StructField(\"imdb_id\", StringType(), True),\n",
    "    StructField(\"title\", StringType(), True),\n",
    "    StructField(\"overview\", StringType(), True),\n",
    "    StructField(\"release_date\", StringType(), True),\n",
    "    StructField(\"runtime\", DoubleType(), True),\n",
    "    StructField(\"cast\", StringType(), True),\n",
    "    StructField(\"crew\", StringType(), True),\n",
    "    StructField(\"keywords\", StringType(), True),\n",
    "    StructField(\"poster\", StringType(), True),\n",
    "])\n",
    "\n",
    "# cargamos los datos en un dataframe\n",
    "df = spark.read.csv(capaAlmacenamiento, header=True, schema=schemaDf, sep=\",\").persist()"
   ]
  },
  {
   "cell_type": "code",
   "execution_count": 73,
   "metadata": {},
   "outputs": [],
   "source": [
    "# casteamos la columna de fecha a tipo date\n",
    "df = df.withColumn(\"release_date\", to_date(df[\"release_date\"], \"yyyy-MM-dd\"))"
   ]
  },
  {
   "cell_type": "code",
   "execution_count": 74,
   "metadata": {},
   "outputs": [
    {
     "name": "stdout",
     "output_type": "stream",
     "text": [
      "root\n",
      " |-- adult: boolean (nullable = true)\n",
      " |-- genres: string (nullable = true)\n",
      " |-- id: integer (nullable = true)\n",
      " |-- imdb_id: string (nullable = true)\n",
      " |-- title: string (nullable = true)\n",
      " |-- overview: string (nullable = true)\n",
      " |-- release_date: date (nullable = true)\n",
      " |-- runtime: double (nullable = true)\n",
      " |-- cast: string (nullable = true)\n",
      " |-- crew: string (nullable = true)\n",
      " |-- keywords: string (nullable = true)\n",
      " |-- poster: string (nullable = true)\n",
      "\n"
     ]
    }
   ],
   "source": [
    "df.printSchema()"
   ]
  },
  {
   "cell_type": "code",
   "execution_count": 75,
   "metadata": {},
   "outputs": [
    {
     "name": "stdout",
     "output_type": "stream",
     "text": [
      "Total de registros:  15379\n"
     ]
    }
   ],
   "source": [
    "# miramos el total de registros\n",
    "print(\"Total de registros: \", df.count())"
   ]
  },
  {
   "cell_type": "code",
   "execution_count": 76,
   "metadata": {},
   "outputs": [
    {
     "name": "stdout",
     "output_type": "stream",
     "text": [
      "Total de registros duplicados:  2029\n"
     ]
    }
   ],
   "source": [
    "# miramos la cantidad de registros duplicados\n",
    "print(\"Total de registros duplicados: \", df.count() - df.dropDuplicates().count())"
   ]
  },
  {
   "cell_type": "code",
   "execution_count": 77,
   "metadata": {},
   "outputs": [
    {
     "name": "stdout",
     "output_type": "stream",
     "text": [
      "Total de registros duplicados:  0\n"
     ]
    }
   ],
   "source": [
    "# eliminamos los registros duplicados\n",
    "df = df.dropDuplicates()\n",
    "\n",
    "# miramos la cantidad de registros duplicados\n",
    "print(\"Total de registros duplicados: \", df.count() - df.dropDuplicates().count())"
   ]
  },
  {
   "cell_type": "code",
   "execution_count": 78,
   "metadata": {},
   "outputs": [
    {
     "name": "stdout",
     "output_type": "stream",
     "text": [
      "Total de registros:  13350\n",
      "+-----+--------------------+------+---------+---------+--------------------+------------+-------+--------------------+--------------------+--------------------+--------------------+\n",
      "|adult|              genres|    id|  imdb_id|    title|            overview|release_date|runtime|                cast|                crew|            keywords|              poster|\n",
      "+-----+--------------------+------+---------+---------+--------------------+------------+-------+--------------------+--------------------+--------------------+--------------------+\n",
      "|false|[{'id': 35, 'name...|  9058|tt0110737| Only You|\"A childhood inci...|        null|   null| she meets the ch...|          1994-09-17|               115.0|[{'cast_id': 1, '...|\n",
      "|false|[{'id': 16, 'name...|136619|tt1693039|Pinocchio|Geppetto the carp...|  2012-10-05|   75.0|\"[{'cast_id': 3, ...| 'credit_id': '52...|         'gender': 2|         'id': 69785|\n",
      "|false|[{'id': 18, 'name...|382899|tt5437970|   Mother|A Slovenian mothe...|  2016-01-27|   90.0|[{'cast_id': 2, '...|[{'credit_id': '5...|[{'id': 131, 'nam...|https://m.media-a...|\n",
      "|false|[{'id': 28, 'name...|184315|tt1267297| Hercules|Fourteen hundred ...|  2014-07-23|   99.0|\"[{'cast_id': 4, ...| 'credit_id': '54...|         'gender': 2|        'id': 112692|\n",
      "|false|[{'id': 35, 'name...|  9438|tt0119718|Mr. Magoo|Mr.Magoo, a man w...|  1997-12-25|   84.0|[{'cast_id': 10, ...|\"[{'credit_id': '...| 'profile_path': ...|[{'id': 2251, 'na...|\n",
      "+-----+--------------------+------+---------+---------+--------------------+------------+-------+--------------------+--------------------+--------------------+--------------------+\n",
      "only showing top 5 rows\n",
      "\n"
     ]
    }
   ],
   "source": [
    "# miramos el total de registros\n",
    "print(\"Total de registros: \", df.count())\n",
    "\n",
    "# hacemos un show de los datos\n",
    "df.show(5)"
   ]
  },
  {
   "cell_type": "code",
   "execution_count": 79,
   "metadata": {},
   "outputs": [
    {
     "name": "stdout",
     "output_type": "stream",
     "text": [
      "+-----+------+---+-------+-----+--------+------------+-------+----+----+--------+------+\n",
      "|adult|genres| id|imdb_id|title|overview|release_date|runtime|cast|crew|keywords|poster|\n",
      "+-----+------+---+-------+-----+--------+------------+-------+----+----+--------+------+\n",
      "|   20|     1| 20|      9|    4|      93|         643|    653|  28|  32|      34|    34|\n",
      "+-----+------+---+-------+-----+--------+------------+-------+----+----+--------+------+\n",
      "\n"
     ]
    }
   ],
   "source": [
    "# miramos la cantidad de registros nulos por columna\n",
    "df.select([count(when(col(c).isNull(), c)).alias(c) for c in df.columns]).show()"
   ]
  },
  {
   "cell_type": "code",
   "execution_count": 80,
   "metadata": {},
   "outputs": [
    {
     "name": "stdout",
     "output_type": "stream",
     "text": [
      "+-----+------+---+-------+-----+--------+------------+-------+----+----+--------+------+\n",
      "|adult|genres| id|imdb_id|title|overview|release_date|runtime|cast|crew|keywords|poster|\n",
      "+-----+------+---+-------+-----+--------+------------+-------+----+----+--------+------+\n",
      "|    0|     0|  0|      0|    0|       0|           0|      0|   0|   0|       0|     0|\n",
      "+-----+------+---+-------+-----+--------+------------+-------+----+----+--------+------+\n",
      "\n"
     ]
    }
   ],
   "source": [
    "# borramos los registros nulos\n",
    "df = df.na.drop()\n",
    "\n",
    "# miramos la cantidad de registros nulos por columna\n",
    "df.select([count(when(col(c).isNull(), c)).alias(c) for c in df.columns]).show()"
   ]
  },
  {
   "cell_type": "code",
   "execution_count": 81,
   "metadata": {},
   "outputs": [
    {
     "name": "stdout",
     "output_type": "stream",
     "text": [
      "Total de registros:  12611\n"
     ]
    }
   ],
   "source": [
    "\n",
    "# la cantidad TOTAL de registros\n",
    "print(\"Total de registros: \", df.count())"
   ]
  },
  {
   "cell_type": "code",
   "execution_count": 82,
   "metadata": {},
   "outputs": [
    {
     "name": "stdout",
     "output_type": "stream",
     "text": [
      "+-----+--------------------+------+---------+-----------+--------------------+------------+-------+--------------------+--------------------+--------------------+--------------------+\n",
      "|adult|              genres|    id|  imdb_id|      title|            overview|release_date|runtime|                cast|                crew|            keywords|              poster|\n",
      "+-----+--------------------+------+---------+-----------+--------------------+------------+-------+--------------------+--------------------+--------------------+--------------------+\n",
      "|false|[{'id': 16, 'name...|136619|tt1693039|  Pinocchio|Geppetto the carp...|  2012-10-05|   75.0|\"[{'cast_id': 3, ...| 'credit_id': '52...|         'gender': 2|         'id': 69785|\n",
      "|false|[{'id': 18, 'name...|382899|tt5437970|     Mother|A Slovenian mothe...|  2016-01-27|   90.0|[{'cast_id': 2, '...|[{'credit_id': '5...|[{'id': 131, 'nam...|https://m.media-a...|\n",
      "|false|[{'id': 28, 'name...|184315|tt1267297|   Hercules|Fourteen hundred ...|  2014-07-23|   99.0|\"[{'cast_id': 4, ...| 'credit_id': '54...|         'gender': 2|        'id': 112692|\n",
      "|false|[{'id': 35, 'name...|  9438|tt0119718|  Mr. Magoo|Mr.Magoo, a man w...|  1997-12-25|   84.0|[{'cast_id': 10, ...|\"[{'credit_id': '...| 'profile_path': ...|[{'id': 2251, 'na...|\n",
      "|false|[{'id': 35, 'name...|388468|tt5195390|Grand Hotel|A pompous, aging ...|  2016-04-08|   90.0|[{'cast_id': 0, '...|[{'credit_id': '5...|                  []|https://m.media-a...|\n",
      "+-----+--------------------+------+---------+-----------+--------------------+------------+-------+--------------------+--------------------+--------------------+--------------------+\n",
      "only showing top 5 rows\n",
      "\n"
     ]
    }
   ],
   "source": [
    "# hacemos un show de los datos\n",
    "df.show(5)"
   ]
  },
  {
   "cell_type": "code",
   "execution_count": 83,
   "metadata": {},
   "outputs": [],
   "source": [
    "# guardamos el dataframe en formato parquet\n",
    "df.write.parquet(capaProcesamiento, mode=\"overwrite\")\n"
   ]
  },
  {
   "cell_type": "code",
   "execution_count": 84,
   "metadata": {},
   "outputs": [],
   "source": [
    "# liberamos memoria\n",
    "df.unpersist()\n",
    "\n",
    "# cerramos la sesion de spark\n",
    "spark.stop()"
   ]
  }
 ],
 "metadata": {
  "kernelspec": {
   "display_name": "Python 3",
   "language": "python",
   "name": "python3"
  },
  "language_info": {
   "codemirror_mode": {
    "name": "ipython",
    "version": 3
   },
   "file_extension": ".py",
   "mimetype": "text/x-python",
   "name": "python",
   "nbconvert_exporter": "python",
   "pygments_lexer": "ipython3",
   "version": "3.10.10"
  },
  "orig_nbformat": 4
 },
 "nbformat": 4,
 "nbformat_minor": 2
}
