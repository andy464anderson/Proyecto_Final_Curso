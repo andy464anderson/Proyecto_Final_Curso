{
 "cells": [
  {
   "cell_type": "code",
   "execution_count": 1,
   "metadata": {},
   "outputs": [],
   "source": [
    "# importamos las liberias necesarias para trabajar con python con spark\n",
    "from pyspark.sql import SparkSession\n",
    "from pyspark.sql.types import StringType, StructField, StructType, IntegerType, FloatType, DateType, BooleanType, DoubleType\n",
    "from pyspark.sql.functions import *\n",
    "\n",
    "# creamos la sesion de spark con 4 cores y 4 gigas de memoria mas nombre de la aplicacion\n",
    "spark = SparkSession.builder.master(\"local[4]\").appName(\"carga_de_datos\").getOrCreate()\n",
    "\n",
    "# creamos variable con la ruta del archivos\n",
    "capaProcesamiento = \"../datalake/capaProcesamiento/peliculas.parquet\"\n",
    "capaLimpieza = \"../datalake/capaLimpieza/peliculas.parquet\""
   ]
  },
  {
   "cell_type": "code",
   "execution_count": 3,
   "metadata": {},
   "outputs": [
    {
     "name": "stdout",
     "output_type": "stream",
     "text": [
      "root\n",
      " |-- adult: boolean (nullable = true)\n",
      " |-- genres: string (nullable = true)\n",
      " |-- id: integer (nullable = true)\n",
      " |-- imdb_id: string (nullable = true)\n",
      " |-- title: string (nullable = true)\n",
      " |-- overview: string (nullable = true)\n",
      " |-- release_date: date (nullable = true)\n",
      " |-- runtime: double (nullable = true)\n",
      " |-- cast: string (nullable = true)\n",
      " |-- crew: string (nullable = true)\n",
      " |-- keywords: string (nullable = true)\n",
      " |-- poster: string (nullable = true)\n",
      "\n",
      "+-----+--------------------+------+---------+-----------------+--------------------+------------+-------+--------------------+--------------------+--------------------+--------------------+\n",
      "|adult|              genres|    id|  imdb_id|            title|            overview|release_date|runtime|                cast|                crew|            keywords|              poster|\n",
      "+-----+--------------------+------+---------+-----------------+--------------------+------------+-------+--------------------+--------------------+--------------------+--------------------+\n",
      "|false|[{'id': 18, 'name...|191104|tt2504404|             Wolf|A young boxer is ...|  2013-09-11|  122.0|[{'cast_id': 5, '...|[{'credit_id': '5...|                  []|https://m.media-a...|\n",
      "|false|[{'id': 28, 'name...| 29918|tt0110305|           Lassie|An update of the ...|  1994-07-22|   94.0|[{'cast_id': 1, '...|[{'credit_id': '5...|[{'id': 178869, '...|https://m.media-a...|\n",
      "|false|[{'id': 18, 'name...| 86709|tt1753597|Last Man Standing|Abby Collins's qu...|  2011-06-07|   84.0|[{'cast_id': 12, ...|[{'credit_id': '5...|                  []|https://m.media-a...|\n",
      "|false|[{'id': 35, 'name...|141210|tt2250194|    The Sleepover|The town of Derry...|  2013-10-12|    6.0|[{'cast_id': 2, '...|[{'credit_id': '5...|                  []|https://m.media-a...|\n",
      "|false|[{'id': 18, 'name...| 37405|tt0765444|             Eden|Fat German star r...|  2006-11-02|   98.0|[{'cast_id': 1, '...|[{'credit_id': '5...|[{'id': 9840, 'na...|https://m.media-a...|\n",
      "+-----+--------------------+------+---------+-----------------+--------------------+------------+-------+--------------------+--------------------+--------------------+--------------------+\n",
      "only showing top 5 rows\n",
      "\n"
     ]
    }
   ],
   "source": [
    "# leamos el df desde la capa de procesamiento\n",
    "df = spark.read.parquet(capaProcesamiento).persist()\n",
    "\n",
    "# hacemos un printSchema para ver el esquema del df\n",
    "df.printSchema()\n",
    "\n",
    "# hacemos un show para ver los datos del df\n",
    "df.show(5)"
   ]
  },
  {
   "cell_type": "code",
   "execution_count": 4,
   "metadata": {},
   "outputs": [
    {
     "name": "stdout",
     "output_type": "stream",
     "text": [
      "+-----+\n",
      "|adult|\n",
      "+-----+\n",
      "| true|\n",
      "|false|\n",
      "+-----+\n",
      "\n"
     ]
    }
   ],
   "source": [
    "# miramos la columna adult\n",
    "df.select(\"adult\").distinct().show()"
   ]
  },
  {
   "cell_type": "code",
   "execution_count": 13,
   "metadata": {},
   "outputs": [
    {
     "name": "stdout",
     "output_type": "stream",
     "text": [
      "+---------------------------------+-----+\n",
      "|((genres IS NULL) OR (genres = ))|count|\n",
      "+---------------------------------+-----+\n",
      "|                            false|12611|\n",
      "+---------------------------------+-----+\n",
      "\n"
     ]
    }
   ],
   "source": [
    "# miramos la columna genres si tiene valores nulos\n",
    "df.select((col(\"genres\").isNull()) | (col(\"genres\") == \"\")).groupBy(\"((genres IS NULL) OR (genres = ))\").count().show()"
   ]
  },
  {
   "cell_type": "code",
   "execution_count": 15,
   "metadata": {},
   "outputs": [
    {
     "name": "stdout",
     "output_type": "stream",
     "text": [
      "+-----+\n",
      "|   id|\n",
      "+-----+\n",
      "|75294|\n",
      "|87462|\n",
      "|26755|\n",
      "|20382|\n",
      "|30361|\n",
      "+-----+\n",
      "only showing top 5 rows\n",
      "\n",
      "+-------+-------+\n",
      "|min(id)|max(id)|\n",
      "+-------+-------+\n",
      "|      2| 465044|\n",
      "+-------+-------+\n",
      "\n"
     ]
    }
   ],
   "source": [
    "# miramos la columna id \n",
    "df.select(\"id\").distinct().show(5)\n",
    "\n",
    "# miramos el valor min y max de la columna id\n",
    "df.select(min(\"id\"), max(\"id\")).show()"
   ]
  },
  {
   "cell_type": "code",
   "execution_count": 17,
   "metadata": {},
   "outputs": [
    {
     "name": "stdout",
     "output_type": "stream",
     "text": [
      "+---------+\n",
      "|  imdb_id|\n",
      "+---------+\n",
      "|tt4126394|\n",
      "|tt0098153|\n",
      "|tt0039305|\n",
      "|tt0093780|\n",
      "|tt0964185|\n",
      "+---------+\n",
      "only showing top 5 rows\n",
      "\n",
      "+-----------------------------------+-----+\n",
      "|((imdb_id IS NULL) OR (imdb_id = ))|count|\n",
      "+-----------------------------------+-----+\n",
      "|                              false|12611|\n",
      "+-----------------------------------+-----+\n",
      "\n"
     ]
    }
   ],
   "source": [
    "# miramos la columna imdb_id\n",
    "df.select(\"imdb_id\").distinct().show(5)\n",
    "\n",
    "# miramos el numero de nulos\n",
    "df.select((col(\"imdb_id\").isNull()) | (col(\"imdb_id\") == \"\")).groupBy(\"((imdb_id IS NULL) OR (imdb_id = ))\").count().show()"
   ]
  },
  {
   "cell_type": "code",
   "execution_count": 18,
   "metadata": {},
   "outputs": [
    {
     "name": "stdout",
     "output_type": "stream",
     "text": [
      "+------------------+\n",
      "|             title|\n",
      "+------------------+\n",
      "|The Last Airbender|\n",
      "|   My Name Is Khan|\n",
      "|            Crisis|\n",
      "|     The Dead Girl|\n",
      "|     The Encounter|\n",
      "+------------------+\n",
      "only showing top 5 rows\n",
      "\n"
     ]
    }
   ],
   "source": [
    "# miramos la columna title\n",
    "df.select(\"title\").distinct().show(5)"
   ]
  },
  {
   "cell_type": "code",
   "execution_count": 22,
   "metadata": {},
   "outputs": [
    {
     "name": "stdout",
     "output_type": "stream",
     "text": [
      "+--------------------+\n",
      "|            overview|\n",
      "+--------------------+\n",
      "|After a group of ...|\n",
      "|A freak tsunami t...|\n",
      "|Born of a god but...|\n",
      "|With friends like...|\n",
      "|Hamlet comes home...|\n",
      "+--------------------+\n",
      "only showing top 5 rows\n",
      "\n",
      "+-----+------+---+-------+-----+--------+------------+-------+----+----+--------+------+\n",
      "|adult|genres| id|imdb_id|title|overview|release_date|runtime|cast|crew|keywords|poster|\n",
      "+-----+------+---+-------+-----+--------+------------+-------+----+----+--------+------+\n",
      "+-----+------+---+-------+-----+--------+------------+-------+----+----+--------+------+\n",
      "\n"
     ]
    }
   ],
   "source": [
    "# miramos la columna overview\n",
    "df.select(\"overview\").distinct().show(5)\n",
    "\n",
    "# comprobamos si no tiene valores int\n",
    "df.filter(df[\"overview\"].rlike(\"^[0-9]+$\")).show()"
   ]
  },
  {
   "cell_type": "code",
   "execution_count": 24,
   "metadata": {},
   "outputs": [
    {
     "name": "stdout",
     "output_type": "stream",
     "text": [
      "+--------------------+\n",
      "|            keywords|\n",
      "+--------------------+\n",
      "|[{'id': 10051, 'n...|\n",
      "|[{'id': 1329, 'na...|\n",
      "|[{'id': 567, 'nam...|\n",
      "|[{'id': 10540, 'n...|\n",
      "|[{'id': 6270, 'na...|\n",
      "+--------------------+\n",
      "only showing top 5 rows\n",
      "\n"
     ]
    },
    {
     "data": {
      "text/plain": [
       "3072"
      ]
     },
     "execution_count": 24,
     "metadata": {},
     "output_type": "execute_result"
    }
   ],
   "source": [
    "# miramos la columna keywords\n",
    "df.select(\"keywords\").distinct().show(5)\n",
    "\n",
    "# miramos la cantidad de valores con []\n",
    "df.filter(df[\"keywords\"].rlike(\"^\\[\\]$\")).count()"
   ]
  },
  {
   "cell_type": "code",
   "execution_count": 38,
   "metadata": {},
   "outputs": [
    {
     "name": "stdout",
     "output_type": "stream",
     "text": [
      "8796\n",
      "+-----------------+\n",
      "|poster           |\n",
      "+-----------------+\n",
      "| 'id': 27737     |\n",
      "| {'cast_id': 1018|\n",
      "| 'id': 14984     |\n",
      "| 'id': 1288498   |\n",
      "| 'id': 6798      |\n",
      "+-----------------+\n",
      "only showing top 5 rows\n",
      "\n",
      "None\n",
      "+------------------------------------------------------------------------------------------------------------------------------------------------+\n",
      "|poster                                                                                                                                          |\n",
      "+------------------------------------------------------------------------------------------------------------------------------------------------+\n",
      "|https://m.media-amazon.com/images/M/MV5BMTY0Y2EyYTMtMDM5MC00YjEzLWFhY2QtMmRhZmFlNWI3Nzg1XkEyXkFqcGdeQXVyMjUyNDk2ODc@._V1_UX256,0,256,256_AL_.jpg|\n",
      "|https://m.media-amazon.com/images/M/MV5BN2MyYTZiZTktZTBlNC00MDJhLThmOGEtZTc3NmE2ZmQ2Y2U4XkEyXkFqcGdeQXVyMTE4ODk5NjI@._V1_UX256,0,256,256_AL_.jpg|\n",
      "|https://m.media-amazon.com/images/M/MV5BODgxNzI5NTg1MF5BMl5BanBnXkFtZTcwMDYxODUxNw@@._V1_UX256,0,256,256_AL_.jpg                                |\n",
      "|https://m.media-amazon.com/images/M/MV5BZmE1Mjg5ZjgtYjkzYi00OWYxLWEyMDQtYjI3NWE1ZTc3N2Q3XkEyXkFqcGdeQXVyNjEwNTM2Mzc@._V1_UX256,0,256,256_AL_.jpg|\n",
      "|https://m.media-amazon.com/images/M/MV5BZGY1M2ViNDYtYmVjMi00MWYzLTlhNzMtODhhMWQ3MzA5ZGY3XkEyXkFqcGdeQXVyNzAwMTY1Ng@@._V1_UX256,0,256,256_AL_.jpg|\n",
      "+------------------------------------------------------------------------------------------------------------------------------------------------+\n",
      "only showing top 5 rows\n",
      "\n"
     ]
    }
   ],
   "source": [
    "# comprobamos si la columna poster tiene url validas y que empiieza por https://\n",
    "print(df.filter(df[\"poster\"].rlike(\"^https://\")).count())\n",
    "\n",
    "# comprobamos si la columna poster tiene url validas y que no empiieza por https://\n",
    "print(df.filter(~df[\"poster\"].rlike(\"^https://\")).select(\"poster\").show(5, truncate=False))\n",
    "\n",
    "df = df.filter(df[\"poster\"].rlike(\"^https://\"))\n",
    "\n",
    "df.select(\"poster\").show(5, truncate=False)\n"
   ]
  },
  {
   "cell_type": "code",
   "execution_count": 39,
   "metadata": {},
   "outputs": [
    {
     "name": "stdout",
     "output_type": "stream",
     "text": [
      "+-----+------+---+-------+-----+--------+------------+-------+----+----+--------+------+\n",
      "|adult|genres| id|imdb_id|title|overview|release_date|runtime|cast|crew|keywords|poster|\n",
      "+-----+------+---+-------+-----+--------+------------+-------+----+----+--------+------+\n",
      "|    0|     0|  0|      0|    0|       0|           0|      0|   0|   0|       0|     0|\n",
      "+-----+------+---+-------+-----+--------+------------+-------+----+----+--------+------+\n",
      "\n"
     ]
    }
   ],
   "source": [
    "# miramos el numero de nulos por columna\n",
    "df.select([count(when(col(c).isNull(), c)).alias(c) for c in df.columns]).show()"
   ]
  },
  {
   "cell_type": "code",
   "execution_count": 40,
   "metadata": {},
   "outputs": [
    {
     "data": {
      "text/plain": [
       "8796"
      ]
     },
     "execution_count": 40,
     "metadata": {},
     "output_type": "execute_result"
    }
   ],
   "source": [
    "# miramos el numero de registros \n",
    "df.count()"
   ]
  },
  {
   "cell_type": "code",
   "execution_count": 41,
   "metadata": {},
   "outputs": [
    {
     "name": "stdout",
     "output_type": "stream",
     "text": [
      "+-----+------+---+-------+-----+--------+------------+-------+----+----+--------+------+\n",
      "|adult|genres| id|imdb_id|title|overview|release_date|runtime|cast|crew|keywords|poster|\n",
      "+-----+------+---+-------+-----+--------+------------+-------+----+----+--------+------+\n",
      "|    0|     0|  0|      0|    0|       0|           0|      0|   0|   0|       0|     0|\n",
      "+-----+------+---+-------+-----+--------+------------+-------+----+----+--------+------+\n",
      "\n"
     ]
    }
   ],
   "source": [
    "# camiamos el tipo de datos de la columna release_date a string\n",
    "df = df.withColumn(\"release_date\", col(\"release_date\").cast(StringType()))\n",
    "\n",
    "# miramos el numero de nulos por columna\n",
    "df.select([count(when(col(c).isNull(), c)).alias(c) for c in df.columns]).show()\n"
   ]
  },
  {
   "cell_type": "code",
   "execution_count": 42,
   "metadata": {},
   "outputs": [
    {
     "name": "stdout",
     "output_type": "stream",
     "text": [
      "+------------+\n",
      "|release_date|\n",
      "+------------+\n",
      "|  2001-04-22|\n",
      "|  2008-12-03|\n",
      "|  2010-02-12|\n",
      "|  2013-03-14|\n",
      "|  2007-04-29|\n",
      "+------------+\n",
      "only showing top 5 rows\n",
      "\n"
     ]
    }
   ],
   "source": [
    "# miramos la columna release_date\n",
    "df.select(\"release_date\").distinct().show(5)"
   ]
  },
  {
   "cell_type": "code",
   "execution_count": 43,
   "metadata": {},
   "outputs": [],
   "source": [
    "# guadamos el df en la capa de limpieza\n",
    "df.write.mode(\"overwrite\").parquet(capaLimpieza)\n",
    "\n",
    "# liberamos memoria\n",
    "df.unpersist()"
   ]
  },
  {
   "cell_type": "code",
   "execution_count": 44,
   "metadata": {},
   "outputs": [],
   "source": [
    "# cerramos la sesion de spark\n",
    "spark.stop()"
   ]
  },
  {
   "cell_type": "code",
   "execution_count": null,
   "metadata": {},
   "outputs": [],
   "source": []
  }
 ],
 "metadata": {
  "kernelspec": {
   "display_name": "Python 3",
   "language": "python",
   "name": "python3"
  },
  "language_info": {
   "codemirror_mode": {
    "name": "ipython",
    "version": 3
   },
   "file_extension": ".py",
   "mimetype": "text/x-python",
   "name": "python",
   "nbconvert_exporter": "python",
   "pygments_lexer": "ipython3",
   "version": "3.10.10"
  },
  "orig_nbformat": 4
 },
 "nbformat": 4,
 "nbformat_minor": 2
}
