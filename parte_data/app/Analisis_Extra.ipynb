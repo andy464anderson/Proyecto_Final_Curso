{
 "cells": [
  {
   "cell_type": "code",
   "execution_count": 30,
   "metadata": {},
   "outputs": [],
   "source": [
    "# importamos las liberias necesarias para trabajar con python con spark\n",
    "from pyspark.sql import SparkSession\n",
    "from pyspark.sql.types import StringType, StructField, StructType, IntegerType, FloatType, DateType, BooleanType, DoubleType\n",
    "from pyspark.sql.functions import *\n",
    "\n",
    "# creamos la sesion de spark con 4 cores y 4 gigas de memoria mas nombre de la aplicacion\n",
    "spark = SparkSession.builder.master(\"local[4]\").appName(\"carga_de_datos\").getOrCreate()\n",
    "\n",
    "# creamos variable con la ruta del archivos\n",
    "capaLimpieza = \"../datalake/capaLimpieza/peliculas.parquet\""
   ]
  },
  {
   "cell_type": "code",
   "execution_count": 36,
   "metadata": {},
   "outputs": [],
   "source": [
    "# cargamos los datos en un dataframe\n",
    "df = spark.read.parquet(capaLimpieza).persist()"
   ]
  },
  {
   "cell_type": "code",
   "execution_count": 37,
   "metadata": {},
   "outputs": [
    {
     "data": {
      "text/plain": [
       "5866"
      ]
     },
     "execution_count": 37,
     "metadata": {},
     "output_type": "execute_result"
    }
   ],
   "source": [
    "# miramos la columa title el numero de registros por title y solo mostramos los que son unicos\n",
    "len(df.groupBy(\"title\").agg(count(\"title\").alias(\"num_registros\")).where(\"num_registros == 1\").collect())"
   ]
  },
  {
   "cell_type": "code",
   "execution_count": 38,
   "metadata": {},
   "outputs": [
    {
     "data": {
      "text/plain": [
       "5866"
      ]
     },
     "execution_count": 38,
     "metadata": {},
     "output_type": "execute_result"
    }
   ],
   "source": [
    "# filtramos los registros repetidos en la columna title\n",
    "df = df.dropDuplicates([\"title\"])\n",
    "\n",
    "df.count()"
   ]
  },
  {
   "cell_type": "code",
   "execution_count": 39,
   "metadata": {},
   "outputs": [
    {
     "data": {
      "text/plain": [
       "5866"
      ]
     },
     "execution_count": 39,
     "metadata": {},
     "output_type": "execute_result"
    }
   ],
   "source": [
    "# filtramos los registros repitidos en la columna poster\n",
    "df = df.dropDuplicates([\"poster\"])\n",
    "\n",
    "df.count()"
   ]
  },
  {
   "cell_type": "code",
   "execution_count": 43,
   "metadata": {},
   "outputs": [
    {
     "name": "stdout",
     "output_type": "stream",
     "text": [
      "+------+\n",
      "|    id|\n",
      "+------+\n",
      "|356895|\n",
      "|321666|\n",
      "| 46564|\n",
      "|329289|\n",
      "| 48686|\n",
      "|264170|\n",
      "| 61416|\n",
      "|286657|\n",
      "| 10800|\n",
      "|224951|\n",
      "| 15658|\n",
      "|380734|\n",
      "|213417|\n",
      "|209274|\n",
      "| 12117|\n",
      "| 84305|\n",
      "| 85872|\n",
      "| 15138|\n",
      "|413998|\n",
      "| 96534|\n",
      "+------+\n",
      "only showing top 20 rows\n",
      "\n"
     ]
    }
   ],
   "source": [
    "# contar los registros repitidos en la columna id\n",
    "df.dropDuplicates([\"id\"]).count()\n",
    "\n",
    "df.select(\"id\").distinct().count()\n",
    "\n",
    "df.select(\"id\").show()"
   ]
  },
  {
   "cell_type": "code",
   "execution_count": 35,
   "metadata": {},
   "outputs": [
    {
     "data": {
      "text/plain": [
       "DataFrame[adult: boolean, genres: string, id: int, imdb_id: string, title: string, overview: string, release_date: string, runtime: double, cast: string, crew: string, keywords: string, poster: string]"
      ]
     },
     "execution_count": 35,
     "metadata": {},
     "output_type": "execute_result"
    }
   ],
   "source": [
    "# escribimos el dataframe en formato parquet\n",
    "df.write.mode(\"overwrite\").parquet(capaLimpieza)\n",
    "\n",
    "# liberamos memoria\n",
    "df.unpersist()\n"
   ]
  },
  {
   "cell_type": "code",
   "execution_count": null,
   "metadata": {},
   "outputs": [],
   "source": []
  },
  {
   "cell_type": "code",
   "execution_count": 29,
   "metadata": {},
   "outputs": [],
   "source": [
    "# cerramos la sesion de spark\n",
    "spark.stop()"
   ]
  },
  {
   "cell_type": "code",
   "execution_count": null,
   "metadata": {},
   "outputs": [],
   "source": []
  }
 ],
 "metadata": {
  "kernelspec": {
   "display_name": "Python 3",
   "language": "python",
   "name": "python3"
  },
  "language_info": {
   "codemirror_mode": {
    "name": "ipython",
    "version": 3
   },
   "file_extension": ".py",
   "mimetype": "text/x-python",
   "name": "python",
   "nbconvert_exporter": "python",
   "pygments_lexer": "ipython3",
   "version": "3.10.10"
  },
  "orig_nbformat": 4
 },
 "nbformat": 4,
 "nbformat_minor": 2
}
